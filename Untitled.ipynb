{
 "cells": [
  {
   "cell_type": "code",
   "execution_count": 1,
   "metadata": {},
   "outputs": [
    {
     "name": "stdout",
     "output_type": "stream",
     "text": [
      "=======>Detecting key points!\n",
      "=======>Matching key points!\n",
      "=======>Random sampling and computing the homography matrix!\n"
     ]
    }
   ],
   "source": [
    "import cv2 \n",
    "import numpy as np \n",
    "import utils\n",
    "\n",
    "img1 = '1-1.jpg'\n",
    "img2 = '1-2.jpg'\n",
    "\n",
    "FindKey = utils.FindKeyPointsAndMatching()\n",
    "img1 = cv2.imread(img1)\n",
    "img2 = cv2.imread(img2)\n",
    "\n",
    "kp1,kp2 = FindKey.get_key_points(img1 = img1, img2 = img2)\n",
    "M = FindKey.match(kp1 = kp1, kp2 = kp2)"
   ]
  },
  {
   "cell_type": "code",
   "execution_count": 2,
   "metadata": {},
   "outputs": [
    {
     "name": "stdout",
     "output_type": "stream",
     "text": [
      "[[ 1.13429838e+00  1.58529261e-04 -2.61766313e+02]\n",
      " [-1.13547129e-04  1.13487010e+00  7.69938535e-02]\n",
      " [ 2.04330789e-07  3.33946327e-07  1.00000000e+00]]\n"
     ]
    }
   ],
   "source": [
    "print(M)"
   ]
  },
  {
   "cell_type": "code",
   "execution_count": 9,
   "metadata": {},
   "outputs": [
    {
     "data": {
      "text/plain": [
       "array([[[  0.,   0.]],\n",
       "\n",
       "       [[  0., 401.]],\n",
       "\n",
       "       [[490., 401.]],\n",
       "\n",
       "       [[490.,   0.]]], dtype=float32)"
      ]
     },
     "execution_count": 9,
     "metadata": {},
     "output_type": "execute_result"
    }
   ],
   "source": [
    "h1, w1 = img1.shape[0], img1.shape[1]\n",
    "h2, w2 = img2.shape[0], img2.shape[1]\n",
    "rect1 = np.array([[0, 0], [0, h1], [w1, h1], [w1, 0]], dtype=np.float32).reshape((4, 1, 2))\n",
    "rect2 = np.array([[0, 0], [0, h2], [w2, h2], [w2, 0]], dtype=np.float32).reshape((4, 1, 2))\n",
    "rect1"
   ]
  },
  {
   "cell_type": "code",
   "execution_count": 14,
   "metadata": {},
   "outputs": [
    {
     "name": "stdout",
     "output_type": "stream",
     "text": [
      "[[[-2.6176633e+02  7.6993853e-02]]\n",
      "\n",
      " [[-2.6166769e+02  4.5509897e+02]]\n",
      "\n",
      " [[ 2.9403464e+02  4.5499777e+02]]\n",
      "\n",
      " [[ 2.9401047e+02  2.1353623e-02]]]\n"
     ]
    }
   ],
   "source": [
    "trans_rect1 = cv2.perspectiveTransform(rect1, M)\n",
    "total_rect = np.concatenate((rect2, trans_rect1), axis=0)\n",
    "print(trans_rect1)"
   ]
  },
  {
   "cell_type": "code",
   "execution_count": 17,
   "metadata": {},
   "outputs": [
    {
     "name": "stdout",
     "output_type": "stream",
     "text": [
      "(8, 1, 2)\n"
     ]
    }
   ],
   "source": [
    "print(total_rect.shape)"
   ]
  },
  {
   "cell_type": "code",
   "execution_count": null,
   "metadata": {},
   "outputs": [],
   "source": [
    "min_x, min_y = np.int32(total_rect.min(axis=0).ravel())\n",
    "max_x, max_y = np.int32(total_rect.max(axis=0).ravel())\n",
    "shift_to_zero_matrix = np.array([[1, 0, -min_x], [0, 1, -min_y], [0, 0, 1]])\n",
    "trans_img1 = cv2.warpPerspective(img1, shift_to_zero_matrix.dot(homo_matrix), (max_x - min_x, max_y - min_y))\n",
    "trans_img1[-min_y:h2 - min_y, -min_x:w2 - min_x] = img2"
   ]
  }
 ],
 "metadata": {
  "kernelspec": {
   "display_name": "Python 3",
   "language": "python",
   "name": "python3"
  },
  "language_info": {
   "codemirror_mode": {
    "name": "ipython",
    "version": 3
   },
   "file_extension": ".py",
   "mimetype": "text/x-python",
   "name": "python",
   "nbconvert_exporter": "python",
   "pygments_lexer": "ipython3",
   "version": "3.7.3"
  }
 },
 "nbformat": 4,
 "nbformat_minor": 2
}
